{
 "cells": [
  {
   "cell_type": "markdown",
   "metadata": {},
   "source": [
    " NumPy is a powerful tool for working with **Numbers** in Python.\n",
    "  It's like a supercharged version of regular Python List designed to handle large Arrays of numbers efficiently.\n",
    "  KEY ATTRIBUTES of NUMPY are Arrays , Mathematical Functions , Linear Algebra and Random Number Generation.\n",
    "   We use NumPy for more Speed , more Efficiency and more Simplicity of coding."
   ]
  },
  {
   "cell_type": "markdown",
   "metadata": {},
   "source": [
    "00  **Create Array** "
   ]
  },
  {
   "cell_type": "code",
   "execution_count": 2,
   "metadata": {},
   "outputs": [
    {
     "name": "stdout",
     "output_type": "stream",
     "text": [
      "[1 2 3 4 5]\n"
     ]
    }
   ],
   "source": [
    "import numpy as np\n",
    "a=np.array([1,2,3,4,5])\n",
    "print(a)"
   ]
  },
  {
   "cell_type": "markdown",
   "metadata": {},
   "source": [
    "01   .zero() To convert all values of an Array into zero as well as  .ones() works same"
   ]
  },
  {
   "cell_type": "code",
   "execution_count": 3,
   "metadata": {},
   "outputs": [
    {
     "name": "stdout",
     "output_type": "stream",
     "text": [
      "[[[[[0. 0. 0. 0. 0.]\n",
      "    [0. 0. 0. 0. 0.]\n",
      "    [0. 0. 0. 0. 0.]\n",
      "    [0. 0. 0. 0. 0.]]\n",
      "\n",
      "   [[0. 0. 0. 0. 0.]\n",
      "    [0. 0. 0. 0. 0.]\n",
      "    [0. 0. 0. 0. 0.]\n",
      "    [0. 0. 0. 0. 0.]]\n",
      "\n",
      "   [[0. 0. 0. 0. 0.]\n",
      "    [0. 0. 0. 0. 0.]\n",
      "    [0. 0. 0. 0. 0.]\n",
      "    [0. 0. 0. 0. 0.]]]\n",
      "\n",
      "\n",
      "  [[[0. 0. 0. 0. 0.]\n",
      "    [0. 0. 0. 0. 0.]\n",
      "    [0. 0. 0. 0. 0.]\n",
      "    [0. 0. 0. 0. 0.]]\n",
      "\n",
      "   [[0. 0. 0. 0. 0.]\n",
      "    [0. 0. 0. 0. 0.]\n",
      "    [0. 0. 0. 0. 0.]\n",
      "    [0. 0. 0. 0. 0.]]\n",
      "\n",
      "   [[0. 0. 0. 0. 0.]\n",
      "    [0. 0. 0. 0. 0.]\n",
      "    [0. 0. 0. 0. 0.]\n",
      "    [0. 0. 0. 0. 0.]]]]]\n"
     ]
    }
   ],
   "source": [
    "a=np.zeros([1,2,3,4,5])\n",
    "print(a)"
   ]
  },
  {
   "cell_type": "markdown",
   "metadata": {},
   "source": [
    "02 .linspace()   \"This method create required random numbers (num) between start(0) and end point(10)\""
   ]
  },
  {
   "cell_type": "code",
   "execution_count": 4,
   "metadata": {},
   "outputs": [
    {
     "name": "stdout",
     "output_type": "stream",
     "text": [
      "[ 0.          0.52631579  1.05263158  1.57894737  2.10526316  2.63157895\n",
      "  3.15789474  3.68421053  4.21052632  4.73684211  5.26315789  5.78947368\n",
      "  6.31578947  6.84210526  7.36842105  7.89473684  8.42105263  8.94736842\n",
      "  9.47368421 10.        ]\n"
     ]
    }
   ],
   "source": [
    "start : int = 0\n",
    "stop : int = 10\n",
    "num : int = 20\n",
    "a=np.linspace(start,stop,num)\n",
    "print(a)"
   ]
  },
  {
   "cell_type": "markdown",
   "metadata": {},
   "source": [
    "03  .arange() \"in this method we can set the space (2) between start (0) and end point(10)\""
   ]
  },
  {
   "cell_type": "code",
   "execution_count": 5,
   "metadata": {},
   "outputs": [
    {
     "name": "stdout",
     "output_type": "stream",
     "text": [
      "[0 2 4 6 8]\n"
     ]
    }
   ],
   "source": [
    "a  = np.arange(0,10,2)\n",
    "print(a)"
   ]
  },
  {
   "cell_type": "markdown",
   "metadata": {},
   "source": [
    " 04   ARRAY MANIPULATION"
   ]
  },
  {
   "cell_type": "code",
   "execution_count": 6,
   "metadata": {},
   "outputs": [
    {
     "name": "stdout",
     "output_type": "stream",
     "text": [
      "[[1 2]\n",
      " [3 4]\n",
      " [5 6]]\n"
     ]
    }
   ],
   "source": [
    "# .RESHAPE() HAS TWO ATTRIBUTES 1st is ARRAY [1,2,3,4,5,6] / 2nd is DIMENSTION (3,2) (3 is rows , 2 is culomns)\n",
    "a = np.reshape([1,2,3,4,5,6],(3,2))  \n",
    "print(a)"
   ]
  },
  {
   "cell_type": "code",
   "execution_count": 7,
   "metadata": {},
   "outputs": [
    {
     "name": "stdout",
     "output_type": "stream",
     "text": [
      "[[3 4]\n",
      " [2 5]\n",
      " [5 9]]\n"
     ]
    }
   ],
   "source": [
    "# .TRANSPOSE()  FILPPING the ROWS into  CULOMNS and columns into rows. there will be error if the quantity the values are not same of Arrays\n",
    "my_arrays = np.array([[3,2,5] ,[4,5,9]])\n",
    "a = np.transpose(my_arrays)\n",
    "print(a)"
   ]
  },
  {
   "cell_type": "code",
   "execution_count": 8,
   "metadata": {},
   "outputs": [
    {
     "name": "stdout",
     "output_type": "stream",
     "text": [
      "[4 5 6 0 5 1 2 3]\n"
     ]
    }
   ],
   "source": [
    "#.CONCATENATE() #\n",
    "# SIMPLE .CONCATENATE() ##\n",
    "j = np.array([0,5])\n",
    "a =np.array([1,2,3]) \n",
    "b =np.array([4,5,6]) \n",
    "c = np.concatenate((b,j,a))\n",
    "print(c)"
   ]
  },
  {
   "cell_type": "code",
   "execution_count": 9,
   "metadata": {},
   "outputs": [
    {
     "name": "stdout",
     "output_type": "stream",
     "text": [
      "[[ 1  2  3  4  5  6]\n",
      " [11 22 33 44 55 66]]\n"
     ]
    }
   ],
   "source": [
    "# Axis: You can optionally specify the axis parameter to control the direction of concatenation.#\n",
    "#  By default (axis=0), it joins arrays vertically (row-wise). If you set axis=1, it joins them horizontally (column-wise) #\n",
    "a1 =np.array([[1,2,3] , [11,22,33]]) \n",
    "b1 =np.array([[4,5,6] ,[44,55,66]]) \n",
    "c1 = np.concatenate((a1,b1) , axis = 1)\n",
    "print(c1)"
   ]
  },
  {
   "cell_type": "code",
   "execution_count": 10,
   "metadata": {},
   "outputs": [
    {
     "name": "stdout",
     "output_type": "stream",
     "text": [
      "[[ 1  2  3]\n",
      " [11 22 33]\n",
      " [ 4  5  6]\n",
      " [44 55 66]]\n"
     ]
    }
   ],
   "source": [
    "# Axis: You can optionally specify the axis parameter to control the direction of concatenation.#\n",
    "#  By default (axis=0), it joins arrays vertically (row-wise). If you set axis=1, it joins them horizontally (column-wise) #\n",
    "a1 =np.array([[1,2,3] , [11,22,33]]) \n",
    "b1 =np.array([[4,5,6] ,[44,55,66]]) \n",
    "c1 = np.concatenate((a1,b1) , axis=0) \n",
    "print(c1)"
   ]
  },
  {
   "cell_type": "code",
   "execution_count": 11,
   "metadata": {},
   "outputs": [
    {
     "name": "stdout",
     "output_type": "stream",
     "text": [
      "[array([1, 2]), array([3, 4]), array([5, 6])]\n",
      "[array([1, 2]), array([3, 4, 5]), array([6])]\n"
     ]
    }
   ],
   "source": [
    "#.SPILT()\n",
    "arr = np.array([1, 2, 3, 4, 5, 6])\n",
    "\n",
    "# # Split into 3 equal-sized sub-arrays\n",
    "sub_arrays = np.split(arr, 3)  \n",
    "print(sub_arrays)  # Output: [array([1, 2]), array([3, 4]), array([5, 6])]\n",
    "\n",
    "# # Split at specific indices\n",
    "sub_arrays2 = np.split(arr, [2, 5])  \n",
    "print(sub_arrays2)  # Output: [array([1, 2]), array([3, 4, 5]), array([6])]"
   ]
  },
  {
   "cell_type": "markdown",
   "metadata": {},
   "source": [
    "  05  MATHEMATICAL operations :"
   ]
  },
  {
   "cell_type": "code",
   "execution_count": 12,
   "metadata": {},
   "outputs": [
    {
     "name": "stdout",
     "output_type": "stream",
     "text": [
      "[5 7 9]\n"
     ]
    }
   ],
   "source": [
    "# np.add()\n",
    "a = np.array([1,2,3])\n",
    "b = np.array([4,5,6])\n",
    "c = np.add(a,b)\n",
    "print(c)"
   ]
  },
  {
   "cell_type": "code",
   "execution_count": 13,
   "metadata": {},
   "outputs": [
    {
     "name": "stdout",
     "output_type": "stream",
     "text": [
      "[-4 -3 -2]\n"
     ]
    }
   ],
   "source": [
    "#np.subtract()\n",
    "d = np.array([7,8,9])\n",
    "e = np.array([3,5,7])\n",
    "f = np.subtract(e,d)\n",
    "print(f)"
   ]
  },
  {
   "cell_type": "code",
   "execution_count": 14,
   "metadata": {},
   "outputs": [
    {
     "name": "stdout",
     "output_type": "stream",
     "text": [
      "[4.  4.8 6. ]\n"
     ]
    }
   ],
   "source": [
    "# np.divide()\n",
    "g = np.array([16,24,36])\n",
    "h = np.array([4,5,6])\n",
    "i = np.divide(g,h)\n",
    "print(i)"
   ]
  },
  {
   "cell_type": "code",
   "execution_count": 15,
   "metadata": {},
   "outputs": [
    {
     "name": "stdout",
     "output_type": "stream",
     "text": [
      "[ 64 120 216]\n"
     ]
    }
   ],
   "source": [
    "# np.multiply()\n",
    "j = np.array([16,24,36])\n",
    "k = np.array([4,5,6])\n",
    "l = np.multiply(j,k)\n",
    "print(l)"
   ]
  },
  {
   "cell_type": "code",
   "execution_count": 16,
   "metadata": {},
   "outputs": [
    {
     "name": "stdout",
     "output_type": "stream",
     "text": [
      "[9.         8.18535277 7.        ]\n"
     ]
    }
   ],
   "source": [
    "# np.sqrt()  //square root\n",
    "r = np.array([81,67,49])\n",
    "q = np.sqrt(r)\n",
    "print(q)\n",
    "# NOTE [9.         8.18535277 7.        ]\n",
    "# The difference in position/spacing is purely a formatting choice by NumPy when displaying arrays in Google Colab's environment."
   ]
  },
  {
   "cell_type": "code",
   "execution_count": 17,
   "metadata": {},
   "outputs": [
    {
     "name": "stdout",
     "output_type": "stream",
     "text": [
      "[ 54.59815003 148.4131591  403.42879349]\n"
     ]
    }
   ],
   "source": [
    "# np.exp()   //exponential of each element\n",
    "my_numbers = [4, 5, 6]\n",
    "exponential_results = np.exp(my_numbers) \n",
    "print(exponential_results)\n",
    "#NOTE  e^\n",
    "# Here's what's happening step-by-step:\n",
    "\n",
    "# Your input: You provided the list [1, 2, 3] to the exp() function.\n",
    "\n",
    "# The calculation: The exp() function takes each number in your list and calculates 'e' raised to the power of that number.\n",
    "#  'e' is a special mathematical constant, approximately equal to 2.71828.\n",
    "\n",
    "# The output: The output you see, [2.71828183, 7.3890561, 20.08553692], is the result of these calculations:\n",
    "\n",
    "# e^1 (e raised to the power of 1) is approximately 2.71828183\n",
    "# e^2 (e raised to the power of 2) is approximately 7.3890561\n",
    "# e^3 (e raised to the power of 3) is approximately 20.08553692"
   ]
  },
  {
   "cell_type": "markdown",
   "metadata": {},
   "source": [
    "05 Triggnomatric operation   # .log() / .sin() / .cos() / .tan()"
   ]
  },
  {
   "cell_type": "code",
   "execution_count": 18,
   "metadata": {},
   "outputs": [
    {
     "name": "stdout",
     "output_type": "stream",
     "text": [
      " log of a :[0.         0.69314718 1.09861229]\n",
      " sin of b : [0.84147098 0.90929743 0.14112001]\n",
      " cos of c :[ 0.54030231 -0.41614684 -0.9899925 ]\n",
      " tan of d is [ 1.55740772 -2.18503986 -0.14254654]\n"
     ]
    }
   ],
   "source": [
    "a = [1,2,3]\n",
    "alog = np.log(a)\n",
    "print(f''' log of a :{alog}''')\n",
    "\n",
    "b = [1,2,3]\n",
    "bsin = np.sin(b)\n",
    "print(f''' sin of b : {bsin}''')\n",
    "\n",
    "c = [1,2,3]\n",
    "ccos = np.cos(c)\n",
    "print(f''' cos of c :{ccos}''')\n",
    "\n",
    "d = [1,2,3]\n",
    "dtan = np.tan(d)\n",
    "print(f''' tan of d is {dtan}''')"
   ]
  },
  {
   "cell_type": "markdown",
   "metadata": {},
   "source": [
    "06 STATISTICAL FUNCTIONS"
   ]
  },
  {
   "cell_type": "code",
   "execution_count": 19,
   "metadata": {},
   "outputs": [
    {
     "name": "stdout",
     "output_type": "stream",
     "text": [
      "4.0\n"
     ]
    }
   ],
   "source": [
    "# .mean()  Think of it like this: you have a bunch of test scores, and you want to find the average score.\n",
    "#  You would add up all the scores and then divide by the total number of scores. That's exactly what .mean() does.\n",
    "sd = [2,3,4,5,6]\n",
    "sdm = np.mean(sd)\n",
    "print(sdm)"
   ]
  },
  {
   "cell_type": "code",
   "execution_count": 20,
   "metadata": {},
   "outputs": [
    {
     "name": "stdout",
     "output_type": "stream",
     "text": [
      "[2 3 5 6 9]\n",
      "5.0\n"
     ]
    }
   ],
   "source": [
    "#np.median()  How it works:\n",
    "\n",
    "# Sort the numbers: Arrange the numbers in your dataset from smallest to largest.\n",
    "\n",
    "# Find the middle value:\n",
    "\n",
    "# If you have an odd number of values, the median is the value in the exact center of the sorted list.\n",
    "# If you have an even number of values, the median is the average of the two values in the middle of the sorted list.\n",
    "\n",
    "num = [2,3,9,5,6]   # odd number // Median: 4 (the middle value)\n",
    "num_sort = np.sort(num)\n",
    "print(num_sort)\n",
    "num_mean = np.median(num)   # //  .meadian() automaticly first apply .sort() and then apply ,,meadian()\n",
    "print(num_mean)"
   ]
  },
  {
   "cell_type": "code",
   "execution_count": 21,
   "metadata": {},
   "outputs": [
    {
     "name": "stdout",
     "output_type": "stream",
     "text": [
      "[2 3 5 6 9]\n",
      "5.0\n"
     ]
    }
   ],
   "source": [
    " # // ANOTHER WAY TO CODE //\n",
    "num = [2,3,9,5,6]     \n",
    "num_sort = np.sort(num)\n",
    "print(num_sort)\n",
    "num_mean = np.median(num_sort)\n",
    "print(num_mean)"
   ]
  },
  {
   "cell_type": "code",
   "execution_count": 22,
   "metadata": {},
   "outputs": [
    {
     "name": "stdout",
     "output_type": "stream",
     "text": [
      "4.0\n"
     ]
    }
   ],
   "source": [
    " # even number // Median: (3 + 5) / 2 = 4 (average of the two middle values)\n",
    "num1 = [2,3,5,6]   \n",
    "num_mean1 = np.median(num1)\n",
    "print(num_mean1)"
   ]
  },
  {
   "cell_type": "markdown",
   "metadata": {},
   "source": [
    "07  STANDARD DEVIATION  =  np.std()\n",
    "\n",
    "\n",
    " Here's how it works:\n",
    "Calculate the Mean: np.std() first calculates the average of all the numbers in the array.\n",
    "Find the Differences: It then finds the difference between each number and the average.\n",
    "Square the Differences: These differences are squared to make them all positive (so negative and positive differences don't cancel each other out).\n",
    "Calculate the Variance: The squared differences are averaged to find the variance, which is a measure of how spread out the numbers are.\n",
    "Take the Square Root: Finally, np.std() takes the square root of the variance to get the standard deviation."
   ]
  },
  {
   "cell_type": "code",
   "execution_count": 23,
   "metadata": {},
   "outputs": [
    {
     "name": "stdout",
     "output_type": "stream",
     "text": [
      "2.8284271247461903\n"
     ]
    }
   ],
   "source": [
    "woo = [1,3,5,7,9]\n",
    "wooo = np.std(woo)\n",
    "print(wooo)"
   ]
  },
  {
   "cell_type": "markdown",
   "metadata": {},
   "source": [
    "  np.var()         The .var() function stands for variance.\n",
    "  \n",
    "It calculates the statistical variance of the data, which measures how spread out the values are from the mean (average).\n",
    "In simple terms, it shows how much the numbers in your data differ from each other.\n",
    "So, .var() = \"variance.\"  // 1. What is variance?\n",
    "Variance tells us how far the numbers are from the average."
   ]
  },
  {
   "cell_type": "code",
   "execution_count": 24,
   "metadata": {},
   "outputs": [
    {
     "name": "stdout",
     "output_type": "stream",
     "text": [
      "2.0\n"
     ]
    }
   ],
   "source": [
    "voo = [1,2,3,4,5]\n",
    "vooo = np.var(voo)\n",
    "print(vooo)"
   ]
  },
  {
   "cell_type": "code",
   "execution_count": 25,
   "metadata": {},
   "outputs": [
    {
     "name": "stdout",
     "output_type": "stream",
     "text": [
      "23\n",
      "188\n"
     ]
    }
   ],
   "source": [
    "# np.min()  &  np.max()  //  THIS FUNCTION FIND'S THE SMALLEST AND LARGEST NUMBER IN A DATASET , LIST ,ARRAY\n",
    "mi = [188,23,43,67,86]\n",
    "min = np.min(mi)\n",
    "print(min)\n",
    "max = np.max(mi)\n",
    "print(max)"
   ]
  },
  {
   "cell_type": "code",
   "execution_count": 26,
   "metadata": {},
   "outputs": [
    {
     "name": "stdout",
     "output_type": "stream",
     "text": [
      "165\n"
     ]
    }
   ],
   "source": [
    "# np.sum()\n",
    "su = [12,32,45,76]\n",
    "sum = np.sum(su)\n",
    "print(sum)"
   ]
  },
  {
   "cell_type": "markdown",
   "metadata": {},
   "source": [
    "08        LINEAR ALGEBRA "
   ]
  },
  {
   "cell_type": "code",
   "execution_count": 27,
   "metadata": {},
   "outputs": [
    {
     "name": "stdout",
     "output_type": "stream",
     "text": [
      "44\n"
     ]
    }
   ],
   "source": [
    "# np.dot()  What does np.dot() do?\n",
    "# np.dot() performs the dot product of two arrays.\n",
    "#  It's a way of combining two sets of numbers to produce a single value or a new matrix.\n",
    "k = [2,4,6]    # EXPLAIN  //   2*1 + 4*3 + 6*5 =\n",
    "h = [1,3,5]           # //      2+12+30  = 44\n",
    "w = np.dot(k,h)       # //  output    .dot() = 44\n",
    "print(w)"
   ]
  },
  {
   "cell_type": "code",
   "execution_count": 28,
   "metadata": {},
   "outputs": [
    {
     "name": "stdout",
     "output_type": "stream",
     "text": [
      "[[19 22]\n",
      " [43 50]]\n"
     ]
    }
   ],
   "source": [
    "#  np.dot() {MATRICES}                          c:\\Users\\HC\\AppData\\Local\\Microsoft\\Windows\\INetCache\\IE\\K50UQD5H\\IMG-20241208-WA0058[1].jpg\n",
    "k = np.array([[1,2] ,[3,4]])\n",
    "h = np.array([[5,6] ,[7,8]])\n",
    "w = np.dot(k,h)\n",
    "print(w)"
   ]
  },
  {
   "cell_type": "markdown",
   "metadata": {},
   "source": [
    "  np.linalg.inv() is a NumPy function used to calculate the inverse of a square matrix."
   ]
  },
  {
   "cell_type": "code",
   "execution_count": 29,
   "metadata": {},
   "outputs": [
    {
     "name": "stdout",
     "output_type": "stream",
     "text": [
      "[[-2.   1. ]\n",
      " [ 1.5 -0.5]]\n"
     ]
    }
   ],
   "source": [
    "a = np.array([[1,2] ,[3,4]])\n",
    "aa = np.linalg.inv(a)       \n",
    "print(aa) \n",
    "#  // Important Note:\n",
    "# Not all matrices have inverses. If a matrix is singular (its determinant is zero),\n",
    "#  it doesn't have an inverse. In such cases, np.linalg.inv() will raise a LinAlgError."
   ]
  },
  {
   "cell_type": "markdown",
   "metadata": {},
   "source": [
    " np.linalg.det()      CALCULATE THE DETERMINANT : A determinant helps determine whether a matrix is invertible. if the determinant"
   ]
  },
  {
   "cell_type": "code",
   "execution_count": 30,
   "metadata": {},
   "outputs": [
    {
     "name": "stdout",
     "output_type": "stream",
     "text": [
      "-2.0\n"
     ]
    }
   ],
   "source": [
    "\n",
    "b = np.array([[2,3] , [4,5]])                     #        is 0, the matrix is singular(non-invertible). \n",
    "bb = np.linalg.det(b) \n",
    "print(bb)"
   ]
  },
  {
   "cell_type": "markdown",
   "metadata": {},
   "source": [
    " RANDOM NUMBER GENERATION :\n",
    " np.random.rand()  creates random numbers between 0 and 1  contains only +value"
   ]
  },
  {
   "cell_type": "code",
   "execution_count": 31,
   "metadata": {},
   "outputs": [
    {
     "name": "stdout",
     "output_type": "stream",
     "text": [
      "[[0.02069996 0.01377977 0.98106186]\n",
      " [0.40842196 0.01253443 0.08963175]]\n"
     ]
    }
   ],
   "source": [
    "x = np.random.rand(2,3)\n",
    "print(x)"
   ]
  },
  {
   "cell_type": "markdown",
   "metadata": {},
   "source": [
    " np.random.randn      creates random numbers between 0 and 1  contains  +value or -value"
   ]
  },
  {
   "cell_type": "code",
   "execution_count": 32,
   "metadata": {},
   "outputs": [
    {
     "name": "stdout",
     "output_type": "stream",
     "text": [
      "[[ 1.08527012  0.99253293 -0.71552263]\n",
      " [-0.19818673  0.92451759 -1.07511886]\n",
      " [-1.84998125 -0.88239977 -0.33765174]]\n"
     ]
    }
   ],
   "source": [
    "xn = np.random.randn(3,3)\n",
    "print(xn)"
   ]
  },
  {
   "cell_type": "markdown",
   "metadata": {},
   "source": [
    "np.random.randint(low , high , size)"
   ]
  },
  {
   "cell_type": "code",
   "execution_count": 33,
   "metadata": {},
   "outputs": [
    {
     "name": "stdout",
     "output_type": "stream",
     "text": [
      "17\n"
     ]
    }
   ],
   "source": [
    "int = np.random.randint(2,20)\n",
    "print(int)"
   ]
  },
  {
   "cell_type": "code",
   "execution_count": 34,
   "metadata": {},
   "outputs": [
    {
     "name": "stdout",
     "output_type": "stream",
     "text": [
      "[[18 17 19]\n",
      " [ 5 14  5]]\n"
     ]
    }
   ],
   "source": [
    "int = np.random.randint(2,20, size=(2,3))\n",
    "print(int)"
   ]
  }
 ],
 "metadata": {
  "kernelspec": {
   "display_name": "Python 3",
   "language": "python",
   "name": "python3"
  },
  "language_info": {
   "codemirror_mode": {
    "name": "ipython",
    "version": 3
   },
   "file_extension": ".py",
   "mimetype": "text/x-python",
   "name": "python",
   "nbconvert_exporter": "python",
   "pygments_lexer": "ipython3",
   "version": "3.13.1"
  }
 },
 "nbformat": 4,
 "nbformat_minor": 2
}
